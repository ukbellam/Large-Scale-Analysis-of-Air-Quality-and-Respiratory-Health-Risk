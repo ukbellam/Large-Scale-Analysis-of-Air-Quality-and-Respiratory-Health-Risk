{
  "cells": [
    {
      "cell_type": "code",
      "source": [
        "!pip install -q pyspark numpy pandas pyarrow\n",
        "\n",
        "from pyspark.sql import SparkSession, functions as F\n",
        "from pyspark.ml import Pipeline\n",
        "from pyspark.ml.feature import VectorAssembler, StandardScaler\n",
        "from pyspark.ml.regression import LinearRegression\n",
        "from pyspark.ml.evaluation import RegressionEvaluator\n",
        "from pyspark.sql import Row\n",
        "\n",
        "spark = SparkSession.builder.appName(\"AQI_Regression_Fast\").getOrCreate()\n",
        "spark.sparkContext.setLogLevel(\"WARN\")\n",
        "\n",
        "df = (spark.read.option(\"header\", True).option(\"inferSchema\", True).csv(\"/content/part-*.csv\"))\n",
        "\n",
        "aqi_cols = [c for c in [\"NO2_AQI\",\"O3_AQI\",\"SO2_AQI\",\"CO_AQI\",\"PM2_5_AQI\",\"PM10_AQI\"] if c in df.columns]\n",
        "df = df.withColumn(\"AQI_label\", F.array_max(F.array(*[F.col(c).cast(\"double\") for c in aqi_cols]))).dropna(subset=[\"AQI_label\"])\n",
        "\n",
        "feature_cols = [c for c in [\"NO2_Mean\",\"O3_Mean\",\"SO2_Mean\",\"CO_Mean\",\"PM2_5_Mean\",\"PM10_Mean\"] if c in df.columns]\n",
        "df = df.dropna(subset=feature_cols).select(*(feature_cols + [\"AQI_label\"])).sample(False, 0.3, 42).cache()\n",
        "\n",
        "train, test = df.randomSplit([0.8, 0.2], seed=42)\n",
        "\n",
        "assembler = VectorAssembler(inputCols=feature_cols, outputCol=\"features_vec\")\n",
        "scaler = StandardScaler(inputCol=\"features_vec\", outputCol=\"features_z\", withMean=True, withStd=True)\n",
        "lr = LinearRegression(featuresCol=\"features_z\", labelCol=\"AQI_label\", predictionCol=\"AQI_pred\", maxIter=50, regParam=0.1, elasticNetParam=0.2)\n",
        "\n",
        "model = Pipeline(stages=[assembler, scaler, lr]).fit(train)\n",
        "\n",
        "pred = model.transform(test).cache()\n",
        "rmse = RegressionEvaluator(labelCol=\"AQI_label\", predictionCol=\"AQI_pred\", metricName=\"rmse\").evaluate(pred)\n",
        "mae  = RegressionEvaluator(labelCol=\"AQI_label\", predictionCol=\"AQI_pred\", metricName=\"mae\").evaluate(pred)\n",
        "r2   = RegressionEvaluator(labelCol=\"AQI_label\", predictionCol=\"AQI_pred\", metricName=\"r2\").evaluate(pred)\n",
        "print(f\"RMSE: {rmse:.4f}  MAE: {mae:.4f}  R2: {r2:.4f}\")\n",
        "\n",
        "coef_stage = model.stages[-1]\n",
        "coef_df = spark.createDataFrame([Row(feature=f, coefficient=float(c)) for f, c in zip(feature_cols, coef_stage.coefficients.toArray())])\n",
        "coef_df.write.mode(\"overwrite\").parquet(\"/content/aqi_regression_coefficients.parquet\")\n",
        "pred.select(*feature_cols, \"AQI_label\", \"AQI_pred\").write.mode(\"overwrite\").parquet(\"/content/aqi_regression_predictions.parquet\")\n",
        "spark.createDataFrame([(\"rmse\", float(rmse)), (\"mae\", float(mae)), (\"r2\", float(r2))], [\"metric\",\"value\"]).write.mode(\"overwrite\").parquet(\"/content/aqi_regression_metrics.parquet\")\n",
        "\n",
        "pred.select(*feature_cols, \"AQI_label\", \"AQI_pred\").show(10, truncate=False)\n"
      ],
      "metadata": {
        "id": "hWz-A5ablpbE",
        "outputId": "d88dfc6a-ec89-49a2-f92c-11272ca14872",
        "colab": {
          "base_uri": "https://localhost:8080/"
        }
      },
      "execution_count": 5,
      "outputs": [
        {
          "output_type": "stream",
          "name": "stdout",
          "text": [
            "RMSE: 11.6549  MAE: 7.5212  R2: 0.6255\n",
            "+---------+--------+--------+--------+---------+-------------------+\n",
            "|NO2_Mean |O3_Mean |SO2_Mean|CO_Mean |AQI_label|AQI_pred           |\n",
            "+---------+--------+--------+--------+---------+-------------------+\n",
            "|-0.279167|0.03125 |0.0125  |0.137417|30.0     |30.30440163241441  |\n",
            "|-0.154167|0.010125|0.021739|0.1     |18.0     |2.206747638298644  |\n",
            "|0.0      |0.007542|0.0     |0.1     |12.0     |-1.0631346526626828|\n",
            "|0.0      |0.012   |0.0     |0.066667|15.0     |4.741218782912227  |\n",
            "|0.0      |0.012167|0.125   |0.404167|14.0     |6.312568235434199  |\n",
            "|0.0      |0.014   |0.0     |0.05    |16.0     |7.338728969426327  |\n",
            "|0.0      |0.0145  |0.55    |0.008333|19.0     |8.140627885372538  |\n",
            "|0.0      |0.015375|0.8     |0.2     |16.0     |10.166945865663262 |\n",
            "|0.0      |0.016083|0.033333|0.1     |18.0     |10.31780229036676  |\n",
            "|0.0      |0.016125|0.0     |0.120833|19.0     |10.434944697287406 |\n",
            "+---------+--------+--------+--------+---------+-------------------+\n",
            "only showing top 10 rows\n",
            "\n"
          ]
        }
      ]
    }
  ],
  "metadata": {
    "colab": {
      "name": "Welcome To Colab",
      "provenance": []
    },
    "kernelspec": {
      "display_name": "Python 3",
      "name": "python3"
    }
  },
  "nbformat": 4,
  "nbformat_minor": 0
}